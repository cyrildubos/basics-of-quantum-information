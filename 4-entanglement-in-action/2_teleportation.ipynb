{
 "cells": [
  {
   "cell_type": "markdown",
   "metadata": {},
   "source": [
    "# Teleportation"
   ]
  },
  {
   "cell_type": "code",
   "execution_count": 34,
   "metadata": {},
   "outputs": [],
   "source": [
    "from qiskit import QuantumCircuit, QuantumRegister, ClassicalRegister\n",
    "from qiskit_aer import AerSimulator\n",
    "from qiskit.circuit.library import UGate\n",
    "from qiskit.visualization import plot_histogram\n",
    "\n",
    "from numpy import pi, random"
   ]
  },
  {
   "cell_type": "code",
   "execution_count": 35,
   "metadata": {},
   "outputs": [],
   "source": [
    "qubit = QuantumRegister(1, \"Q\")\n",
    "\n",
    "e_bit_a = QuantumRegister(1, \"A\")\n",
    "e_bit_b = QuantumRegister(1, \"B\")\n",
    "\n",
    "bit_a = ClassicalRegister(1, \"a\")\n",
    "bit_b = ClassicalRegister(1, \"b\")\n",
    "\n",
    "protocol = QuantumCircuit(qubit, e_bit_a, e_bit_b, bit_a, bit_b)\n",
    "\n",
    "protocol.h(e_bit_a)\n",
    "protocol.cx(e_bit_a, e_bit_b)\n",
    "\n",
    "protocol.barrier()\n",
    "\n",
    "protocol.cx(qubit, e_bit_a)\n",
    "protocol.h(qubit)\n",
    "\n",
    "protocol.barrier()\n",
    "\n",
    "protocol.measure(e_bit_a, bit_a)\n",
    "protocol.measure(qubit, bit_b)\n",
    "\n",
    "protocol.barrier()\n",
    "\n",
    "with protocol.if_test((bit_a, 1)):\n",
    "    protocol.x(e_bit_b)\n",
    "with protocol.if_test((bit_b, 1)):\n",
    "    protocol.z(e_bit_b)"
   ]
  },
  {
   "cell_type": "code",
   "execution_count": 36,
   "metadata": {},
   "outputs": [
    {
     "data": {
      "text/html": [
       "<pre style=\"word-wrap: normal;white-space: pre;background: #fff0;line-height: 1.1;font-family: &quot;Courier New&quot;,Courier,monospace\">                ░      ┌───┐ ░    ┌─┐ ░                                     »\n",
       "  Q: ───────────░───■──┤ H ├─░────┤M├─░─────────────────────────────────────»\n",
       "     ┌───┐      ░ ┌─┴─┐└───┘ ░ ┌─┐└╥┘ ░                                     »\n",
       "  A: ┤ H ├──■───░─┤ X ├──────░─┤M├─╫──░─────────────────────────────────────»\n",
       "     └───┘┌─┴─┐ ░ └───┘      ░ └╥┘ ║  ░ ┌────── ┌───┐ ───────┐ ┌────── ┌───┐»\n",
       "  B: ─────┤ X ├─░────────────░──╫──╫──░─┤ If-0  ┤ X ├  End-0 ├─┤ If-0  ┤ Z ├»\n",
       "          └───┘ ░            ░  ║  ║  ░ └──╥─── └───┘ ───────┘ └──╥─── └───┘»\n",
       "                                ║  ║    ┌──╨──┐                   ║         »\n",
       "a: 1/═══════════════════════════╩══╬════╡ 0x1 ╞═══════════════════╬═════════»\n",
       "                                0  ║    └─────┘                ┌──╨──┐      »\n",
       "b: 1/══════════════════════════════╩═══════════════════════════╡ 0x1 ╞══════»\n",
       "                                   0                           └─────┘      »\n",
       "«               \n",
       "«  Q: ──────────\n",
       "«               \n",
       "«  A: ──────────\n",
       "«      ───────┐ \n",
       "«  B:   End-0 ├─\n",
       "«      ───────┘ \n",
       "«a: 1/══════════\n",
       "«               \n",
       "«b: 1/══════════\n",
       "«               </pre>"
      ],
      "text/plain": [
       "                ░      ┌───┐ ░    ┌─┐ ░                                     »\n",
       "  Q: ───────────░───■──┤ H ├─░────┤M├─░─────────────────────────────────────»\n",
       "     ┌───┐      ░ ┌─┴─┐└───┘ ░ ┌─┐└╥┘ ░                                     »\n",
       "  A: ┤ H ├──■───░─┤ X ├──────░─┤M├─╫──░─────────────────────────────────────»\n",
       "     └───┘┌─┴─┐ ░ └───┘      ░ └╥┘ ║  ░ ┌────── ┌───┐ ───────┐ ┌────── ┌───┐»\n",
       "  B: ─────┤ X ├─░────────────░──╫──╫──░─┤ If-0  ┤ X ├  End-0 ├─┤ If-0  ┤ Z ├»\n",
       "          └───┘ ░            ░  ║  ║  ░ └──╥─── └───┘ ───────┘ └──╥─── └───┘»\n",
       "                                ║  ║    ┌──╨──┐                   ║         »\n",
       "a: 1/═══════════════════════════╩══╬════╡ 0x1 ╞═══════════════════╬═════════»\n",
       "                                0  ║    └─────┘                ┌──╨──┐      »\n",
       "b: 1/══════════════════════════════╩═══════════════════════════╡ 0x1 ╞══════»\n",
       "                                   0                           └─────┘      »\n",
       "«               \n",
       "«  Q: ──────────\n",
       "«               \n",
       "«  A: ──────────\n",
       "«      ───────┐ \n",
       "«  B:   End-0 ├─\n",
       "«      ───────┘ \n",
       "«a: 1/══════════\n",
       "«               \n",
       "«b: 1/══════════\n",
       "«               "
      ]
     },
     "metadata": {},
     "output_type": "display_data"
    }
   ],
   "source": [
    "display(protocol.draw())"
   ]
  },
  {
   "cell_type": "code",
   "execution_count": 37,
   "metadata": {},
   "outputs": [],
   "source": [
    "random_gate = UGate(\n",
    "    theta=random.random() * 2 * pi,\n",
    "    phi=random.random() * 2 * pi,\n",
    "    lam=random.random() * 2 * pi,\n",
    ")"
   ]
  },
  {
   "cell_type": "code",
   "execution_count": 38,
   "metadata": {},
   "outputs": [
    {
     "data": {
      "text/plain": [
       "array([[-0.6658289 +0.j        ,  0.65298002+0.36095563j],\n",
       "       [-0.10464731+0.73872919j, -0.40066704+0.53178383j]])"
      ]
     },
     "metadata": {},
     "output_type": "display_data"
    }
   ],
   "source": [
    "display(random_gate.to_matrix())"
   ]
  },
  {
   "cell_type": "code",
   "execution_count": 39,
   "metadata": {},
   "outputs": [
    {
     "data": {
      "text/plain": [
       "<qiskit.circuit.instructionset.InstructionSet at 0x7fd7c09ef010>"
      ]
     },
     "execution_count": 39,
     "metadata": {},
     "output_type": "execute_result"
    }
   ],
   "source": [
    "circuit = QuantumCircuit(qubit, e_bit_a, e_bit_b, bit_a, bit_b)\n",
    "\n",
    "# circuit.x(qubit)\n",
    "\n",
    "circuit.append(random_gate, qubit)\n",
    "\n",
    "circuit.barrier()\n",
    "\n",
    "circuit = circuit.compose(protocol)\n",
    "\n",
    "circuit.barrier()\n",
    "\n",
    "circuit.append(random_gate.inverse(), e_bit_b)\n",
    "\n",
    "bit = ClassicalRegister(1, \"r\")\n",
    "\n",
    "circuit.add_register(bit)\n",
    "\n",
    "circuit.measure(e_bit_b, bit)"
   ]
  },
  {
   "cell_type": "code",
   "execution_count": 40,
   "metadata": {},
   "outputs": [
    {
     "data": {
      "text/html": [
       "<pre style=\"word-wrap: normal;white-space: pre;background: #fff0;line-height: 1.1;font-family: &quot;Courier New&quot;,Courier,monospace\">     ┌─────────────────────────┐ ░            ░      ┌───┐ ░    ┌─┐ ░         »\n",
       "  Q: ┤ U(4.5988,1.7115,3.6466) ├─░────────────░───■──┤ H ├─░────┤M├─░─────────»\n",
       "     └─────────────────────────┘ ░ ┌───┐      ░ ┌─┴─┐└───┘ ░ ┌─┐└╥┘ ░         »\n",
       "  A: ────────────────────────────░─┤ H ├──■───░─┤ X ├──────░─┤M├─╫──░─────────»\n",
       "                                 ░ └───┘┌─┴─┐ ░ └───┘      ░ └╥┘ ║  ░ ┌────── »\n",
       "  B: ────────────────────────────░──────┤ X ├─░────────────░──╫──╫──░─┤ If-0  »\n",
       "                                 ░      └───┘ ░            ░  ║  ║  ░ └──╥─── »\n",
       "                                                              ║  ║    ┌──╨──┐ »\n",
       "a: 1/═════════════════════════════════════════════════════════╩══╬════╡ 0x1 ╞═»\n",
       "                                                              0  ║    └─────┘ »\n",
       "b: 1/════════════════════════════════════════════════════════════╩════════════»\n",
       "                                                                 0            »\n",
       "r: 1/═════════════════════════════════════════════════════════════════════════»\n",
       "                                                                              »\n",
       "«                                            ░                               »\n",
       "«  Q: ───────────────────────────────────────░───────────────────────────────»\n",
       "«                                            ░                               »\n",
       "«  A: ───────────────────────────────────────░───────────────────────────────»\n",
       "«     ┌───┐ ───────┐ ┌────── ┌───┐ ───────┐  ░ ┌────────────────────────────┐»\n",
       "«  B: ┤ X ├  End-0 ├─┤ If-0  ┤ Z ├  End-0 ├──░─┤ U(-4.5988,-3.6466,-1.7115) ├»\n",
       "«     └───┘ ───────┘ └──╥─── └───┘ ───────┘  ░ └────────────────────────────┘»\n",
       "«a: 1/══════════════════╬════════════════════════════════════════════════════»\n",
       "«                    ┌──╨──┐                                                 »\n",
       "«b: 1/═══════════════╡ 0x1 ╞═════════════════════════════════════════════════»\n",
       "«                    └─────┘                                                 »\n",
       "«r: 1/═══════════════════════════════════════════════════════════════════════»\n",
       "«                                                                            »\n",
       "«        \n",
       "«  Q: ───\n",
       "«        \n",
       "«  A: ───\n",
       "«     ┌─┐\n",
       "«  B: ┤M├\n",
       "«     └╥┘\n",
       "«a: 1/═╬═\n",
       "«      ║ \n",
       "«b: 1/═╬═\n",
       "«      ║ \n",
       "«r: 1/═╩═\n",
       "«      0 </pre>"
      ],
      "text/plain": [
       "     ┌─────────────────────────┐ ░            ░      ┌───┐ ░    ┌─┐ ░         »\n",
       "  Q: ┤ U(4.5988,1.7115,3.6466) ├─░────────────░───■──┤ H ├─░────┤M├─░─────────»\n",
       "     └─────────────────────────┘ ░ ┌───┐      ░ ┌─┴─┐└───┘ ░ ┌─┐└╥┘ ░         »\n",
       "  A: ────────────────────────────░─┤ H ├──■───░─┤ X ├──────░─┤M├─╫──░─────────»\n",
       "                                 ░ └───┘┌─┴─┐ ░ └───┘      ░ └╥┘ ║  ░ ┌────── »\n",
       "  B: ────────────────────────────░──────┤ X ├─░────────────░──╫──╫──░─┤ If-0  »\n",
       "                                 ░      └───┘ ░            ░  ║  ║  ░ └──╥─── »\n",
       "                                                              ║  ║    ┌──╨──┐ »\n",
       "a: 1/═════════════════════════════════════════════════════════╩══╬════╡ 0x1 ╞═»\n",
       "                                                              0  ║    └─────┘ »\n",
       "b: 1/════════════════════════════════════════════════════════════╩════════════»\n",
       "                                                                 0            »\n",
       "r: 1/═════════════════════════════════════════════════════════════════════════»\n",
       "                                                                              »\n",
       "«                                            ░                               »\n",
       "«  Q: ───────────────────────────────────────░───────────────────────────────»\n",
       "«                                            ░                               »\n",
       "«  A: ───────────────────────────────────────░───────────────────────────────»\n",
       "«     ┌───┐ ───────┐ ┌────── ┌───┐ ───────┐  ░ ┌────────────────────────────┐»\n",
       "«  B: ┤ X ├  End-0 ├─┤ If-0  ┤ Z ├  End-0 ├──░─┤ U(-4.5988,-3.6466,-1.7115) ├»\n",
       "«     └───┘ ───────┘ └──╥─── └───┘ ───────┘  ░ └────────────────────────────┘»\n",
       "«a: 1/══════════════════╬════════════════════════════════════════════════════»\n",
       "«                    ┌──╨──┐                                                 »\n",
       "«b: 1/═══════════════╡ 0x1 ╞═════════════════════════════════════════════════»\n",
       "«                    └─────┘                                                 »\n",
       "«r: 1/═══════════════════════════════════════════════════════════════════════»\n",
       "«                                                                            »\n",
       "«        \n",
       "«  Q: ───\n",
       "«        \n",
       "«  A: ───\n",
       "«     ┌─┐\n",
       "«  B: ┤M├\n",
       "«     └╥┘\n",
       "«a: 1/═╬═\n",
       "«      ║ \n",
       "«b: 1/═╬═\n",
       "«      ║ \n",
       "«r: 1/═╩═\n",
       "«      0 "
      ]
     },
     "metadata": {},
     "output_type": "display_data"
    }
   ],
   "source": [
    "display(circuit.draw())"
   ]
  },
  {
   "cell_type": "code",
   "execution_count": 41,
   "metadata": {},
   "outputs": [
    {
     "data": {
      "image/png": "[encoded data removed]",
      "text/plain": [
       "<Figure size 640x480 with 1 Axes>"
      ]
     },
     "metadata": {},
     "output_type": "display_data"
    }
   ],
   "source": [
    "result = AerSimulator().run(circuit).result()\n",
    "\n",
    "counts = result.get_counts()\n",
    "\n",
    "display(plot_histogram(counts))"
   ]
  }
 ],
 "metadata": {
  "kernelspec": {
   "display_name": ".qiskit",
   "language": "python",
   "name": "python3"
  },
  "language_info": {
   "codemirror_mode": {
    "name": "ipython",
    "version": 3
   },
   "file_extension": ".py",
   "mimetype": "text/x-python",
   "name": "python",
   "nbconvert_exporter": "python",
   "pygments_lexer": "ipython3",
   "version": "3.11.2"
  }
 },
 "nbformat": 4,
 "nbformat_minor": 2
}
